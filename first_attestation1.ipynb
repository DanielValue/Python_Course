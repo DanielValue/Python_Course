{
 "cells": [
  {
   "cell_type": "markdown",
   "id": "1453fbd5e471a5cd",
   "metadata": {},
   "source": [
    "# Аттестация №1"
   ]
  },
  {
   "cell_type": "markdown",
   "id": "1db49e463da46021",
   "metadata": {},
   "source": [
    "### Задание №1\n",
    "Напишите программу, которая принимает словарь `input_dict` и возвращает строку вида: `ключ=значение&ключ=значение`\n",
    "\n",
    "Строка должна быть лексикографически отсортирована по ключам исходного словаря. Сохраните полученный ответ в `result`."
   ]
  },
  {
   "cell_type": "code",
   "execution_count": 7,
   "id": "initial_id",
   "metadata": {
    "ExecuteTime": {
     "end_time": "2024-12-09T13:15:08.317204Z",
     "start_time": "2024-12-09T13:15:08.313520Z"
    },
    "collapsed": true
   },
   "outputs": [],
   "source": [
    "input_dict = {'lesson': 2, 'task': 4, 'course': 'python'}\n",
    "result = 'course=python&lesson=2&task=4'"
   ]
  },
  {
   "cell_type": "code",
   "execution_count": 8,
   "id": "4025e26c2e18bc2f",
   "metadata": {},
   "outputs": [
    {
     "name": "stdout",
     "output_type": "stream",
     "text": [
      "course=python&lesson=2&task=4\n"
     ]
    }
   ],
   "source": [
    "# Напиши решение тут\n",
    "sorted_items = sorted(input_dict.items())\n",
    "result = '&'.join(f\"{key}={value}\" for key, value in sorted_items)\n",
    "print(result)"
   ]
  },
  {
   "cell_type": "markdown",
   "id": "782b3120fa932c5d",
   "metadata": {},
   "source": [
    "### Задание №2\n",
    "Напишите программу, которая будет принимать число n и проверять, кратна ли каждая его цифра цифре, стоящей слева от нее. Ответ сохраните в `result` в виде массива булевых значений результатов проверок.\n",
    "\n",
    "`result` всегда должен начинаться с False, так как слева от первой цифры ничего нет.\n",
    "\n",
    "Пример:\n",
    "```python\n",
    "n = 462825624\n",
    "result = [False, False, False, True, False, False, False, False, True]\n",
    "```"
   ]
  },
  {
   "cell_type": "code",
   "execution_count": 16,
   "id": "657f2f13cbfa3383",
   "metadata": {
    "ExecuteTime": {
     "end_time": "2024-12-17T21:00:28.477188Z",
     "start_time": "2024-12-17T21:00:28.475122Z"
    }
   },
   "outputs": [
    {
     "name": "stdout",
     "output_type": "stream",
     "text": [
      "[False, False, True, False, False, False, False, True]\n"
     ]
    }
   ],
   "source": [
    "# Напиши решение тут\n",
    "n = 462825624\n",
    "\n",
    "def check_divisibility(n):\n",
    "  num_str = str(n)\n",
    "  result = []\n",
    "  for i in range (1, len(num_str)):\n",
    "    right_digit = int(num_str[i])          # Текущая цифра\n",
    "    left_digit = int(num_str[i - 1])      # Цифра слева\n",
    "    if num_str[i] != 0:  # Проверяем, чтобы не делить на 0\n",
    "            result.append(right_digit % left_digit == 0)\n",
    "    else:\n",
    "            result.append(False)\n",
    "            \n",
    "  return result\n",
    "\n",
    "\n",
    "result = check_divisibility(n)\n",
    "print(result)\n",
    "     \n",
    "\n"
   ]
  }
 ],
 "metadata": {
  "kernelspec": {
   "display_name": "Python 3",
   "language": "python",
   "name": "python3"
  },
  "language_info": {
   "codemirror_mode": {
    "name": "ipython",
    "version": 3
   },
   "file_extension": ".py",
   "mimetype": "text/x-python",
   "name": "python",
   "nbconvert_exporter": "python",
   "pygments_lexer": "ipython3",
   "version": "3.12.5"
  }
 },
 "nbformat": 4,
 "nbformat_minor": 5
}
